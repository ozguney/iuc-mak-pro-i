{
 "cells": [
  {
   "cell_type": "code",
   "execution_count": 132,
   "metadata": {},
   "outputs": [],
   "source": [
    "import pandas as pd\n",
    "import numpy as np"
   ]
  },
  {
   "cell_type": "code",
   "execution_count": 133,
   "metadata": {},
   "outputs": [
    {
     "data": {
      "text/html": [
       "<div>\n",
       "<style scoped>\n",
       "    .dataframe tbody tr th:only-of-type {\n",
       "        vertical-align: middle;\n",
       "    }\n",
       "\n",
       "    .dataframe tbody tr th {\n",
       "        vertical-align: top;\n",
       "    }\n",
       "\n",
       "    .dataframe thead th {\n",
       "        text-align: right;\n",
       "    }\n",
       "</style>\n",
       "<table border=\"1\" class=\"dataframe\">\n",
       "  <thead>\n",
       "    <tr style=\"text-align: right;\">\n",
       "      <th></th>\n",
       "      <th>ride_index</th>\n",
       "      <th>start_lat</th>\n",
       "      <th>start_lon</th>\n",
       "      <th>end_lat</th>\n",
       "      <th>end_lon</th>\n",
       "      <th>distance_covered</th>\n",
       "      <th>distance_since_start</th>\n",
       "      <th>elevation_change</th>\n",
       "      <th>elevation</th>\n",
       "      <th>time_since_start</th>\n",
       "      <th>time_elapsed</th>\n",
       "      <th>pct_of_total_ride</th>\n",
       "      <th>elevation_gain</th>\n",
       "      <th>elevation_lost</th>\n",
       "      <th>avg_velocity_kmh</th>\n",
       "      <th>slope_percentage</th>\n",
       "      <th>total_climb_since_start</th>\n",
       "      <th>all_time_avg_kmh</th>\n",
       "      <th>is_he_resting</th>\n",
       "    </tr>\n",
       "  </thead>\n",
       "  <tbody>\n",
       "    <tr>\n",
       "      <th>0</th>\n",
       "      <td>1</td>\n",
       "      <td>40.181009</td>\n",
       "      <td>26.359442</td>\n",
       "      <td>40.184964</td>\n",
       "      <td>26.353516</td>\n",
       "      <td>783.85</td>\n",
       "      <td>0.00</td>\n",
       "      <td>15.5</td>\n",
       "      <td>6.8</td>\n",
       "      <td>0.0</td>\n",
       "      <td>221.0</td>\n",
       "      <td>2.12</td>\n",
       "      <td>15.4</td>\n",
       "      <td>0.0</td>\n",
       "      <td>12.77</td>\n",
       "      <td>2.0</td>\n",
       "      <td>15.4</td>\n",
       "      <td>9.41</td>\n",
       "      <td>False</td>\n",
       "    </tr>\n",
       "    <tr>\n",
       "      <th>1</th>\n",
       "      <td>1</td>\n",
       "      <td>40.184964</td>\n",
       "      <td>26.353516</td>\n",
       "      <td>40.191360</td>\n",
       "      <td>26.357408</td>\n",
       "      <td>771.79</td>\n",
       "      <td>783.85</td>\n",
       "      <td>-15.5</td>\n",
       "      <td>22.3</td>\n",
       "      <td>221.0</td>\n",
       "      <td>126.0</td>\n",
       "      <td>2.08</td>\n",
       "      <td>1.7</td>\n",
       "      <td>17.0</td>\n",
       "      <td>22.05</td>\n",
       "      <td>-2.0</td>\n",
       "      <td>17.1</td>\n",
       "      <td>9.41</td>\n",
       "      <td>False</td>\n",
       "    </tr>\n",
       "    <tr>\n",
       "      <th>2</th>\n",
       "      <td>1</td>\n",
       "      <td>40.191360</td>\n",
       "      <td>26.357408</td>\n",
       "      <td>40.193555</td>\n",
       "      <td>26.359788</td>\n",
       "      <td>242.77</td>\n",
       "      <td>1555.64</td>\n",
       "      <td>3.3</td>\n",
       "      <td>6.8</td>\n",
       "      <td>347.0</td>\n",
       "      <td>84.0</td>\n",
       "      <td>0.66</td>\n",
       "      <td>3.0</td>\n",
       "      <td>0.1</td>\n",
       "      <td>10.40</td>\n",
       "      <td>1.0</td>\n",
       "      <td>20.1</td>\n",
       "      <td>9.41</td>\n",
       "      <td>False</td>\n",
       "    </tr>\n",
       "    <tr>\n",
       "      <th>3</th>\n",
       "      <td>1</td>\n",
       "      <td>40.193555</td>\n",
       "      <td>26.359788</td>\n",
       "      <td>40.198779</td>\n",
       "      <td>26.358954</td>\n",
       "      <td>696.57</td>\n",
       "      <td>1798.41</td>\n",
       "      <td>-4.7</td>\n",
       "      <td>10.1</td>\n",
       "      <td>431.0</td>\n",
       "      <td>157.0</td>\n",
       "      <td>1.88</td>\n",
       "      <td>0.6</td>\n",
       "      <td>4.9</td>\n",
       "      <td>15.97</td>\n",
       "      <td>0.0</td>\n",
       "      <td>20.7</td>\n",
       "      <td>9.41</td>\n",
       "      <td>False</td>\n",
       "    </tr>\n",
       "    <tr>\n",
       "      <th>4</th>\n",
       "      <td>1</td>\n",
       "      <td>40.198779</td>\n",
       "      <td>26.358954</td>\n",
       "      <td>40.201196</td>\n",
       "      <td>26.356685</td>\n",
       "      <td>332.53</td>\n",
       "      <td>2494.98</td>\n",
       "      <td>2.6</td>\n",
       "      <td>5.4</td>\n",
       "      <td>588.0</td>\n",
       "      <td>69.0</td>\n",
       "      <td>0.90</td>\n",
       "      <td>2.5</td>\n",
       "      <td>0.1</td>\n",
       "      <td>17.35</td>\n",
       "      <td>1.0</td>\n",
       "      <td>23.2</td>\n",
       "      <td>9.41</td>\n",
       "      <td>False</td>\n",
       "    </tr>\n",
       "  </tbody>\n",
       "</table>\n",
       "</div>"
      ],
      "text/plain": [
       "   ride_index  start_lat  start_lon    end_lat    end_lon  distance_covered  \\\n",
       "0           1  40.181009  26.359442  40.184964  26.353516            783.85   \n",
       "1           1  40.184964  26.353516  40.191360  26.357408            771.79   \n",
       "2           1  40.191360  26.357408  40.193555  26.359788            242.77   \n",
       "3           1  40.193555  26.359788  40.198779  26.358954            696.57   \n",
       "4           1  40.198779  26.358954  40.201196  26.356685            332.53   \n",
       "\n",
       "   distance_since_start  elevation_change  elevation  time_since_start  \\\n",
       "0                  0.00              15.5        6.8               0.0   \n",
       "1                783.85             -15.5       22.3             221.0   \n",
       "2               1555.64               3.3        6.8             347.0   \n",
       "3               1798.41              -4.7       10.1             431.0   \n",
       "4               2494.98               2.6        5.4             588.0   \n",
       "\n",
       "   time_elapsed  pct_of_total_ride  elevation_gain  elevation_lost  \\\n",
       "0         221.0               2.12            15.4             0.0   \n",
       "1         126.0               2.08             1.7            17.0   \n",
       "2          84.0               0.66             3.0             0.1   \n",
       "3         157.0               1.88             0.6             4.9   \n",
       "4          69.0               0.90             2.5             0.1   \n",
       "\n",
       "   avg_velocity_kmh  slope_percentage  total_climb_since_start  \\\n",
       "0             12.77               2.0                     15.4   \n",
       "1             22.05              -2.0                     17.1   \n",
       "2             10.40               1.0                     20.1   \n",
       "3             15.97               0.0                     20.7   \n",
       "4             17.35               1.0                     23.2   \n",
       "\n",
       "   all_time_avg_kmh  is_he_resting  \n",
       "0              9.41          False  \n",
       "1              9.41          False  \n",
       "2              9.41          False  \n",
       "3              9.41          False  \n",
       "4              9.41          False  "
      ]
     },
     "execution_count": 133,
     "metadata": {},
     "output_type": "execute_result"
    }
   ],
   "source": [
    "ssDF = pd.read_csv(\n",
    "    \"C:\\\\Users\\\\OZGUN\\\\Documents\\\\GitHub\\\\iuc-mak-pro-i\\\\output\\\\single_slope_dataframe.csv\")\n",
    "ssDF.head()"
   ]
  },
  {
   "cell_type": "code",
   "execution_count": 134,
   "metadata": {},
   "outputs": [
    {
     "data": {
      "text/plain": [
       "7133"
      ]
     },
     "execution_count": 134,
     "metadata": {},
     "output_type": "execute_result"
    }
   ],
   "source": [
    "len(ssDF)"
   ]
  },
  {
   "cell_type": "code",
   "execution_count": 135,
   "metadata": {},
   "outputs": [],
   "source": [
    "ssDF.drop(ssDF[ssDF.distance_covered < 3].index, inplace=True)\n",
    "ssDF.drop(ssDF[ssDF.avg_velocity_kmh < 7].index, inplace=True)"
   ]
  },
  {
   "cell_type": "code",
   "execution_count": 136,
   "metadata": {},
   "outputs": [
    {
     "data": {
      "text/html": [
       "<div>\n",
       "<style scoped>\n",
       "    .dataframe tbody tr th:only-of-type {\n",
       "        vertical-align: middle;\n",
       "    }\n",
       "\n",
       "    .dataframe tbody tr th {\n",
       "        vertical-align: top;\n",
       "    }\n",
       "\n",
       "    .dataframe thead th {\n",
       "        text-align: right;\n",
       "    }\n",
       "</style>\n",
       "<table border=\"1\" class=\"dataframe\">\n",
       "  <thead>\n",
       "    <tr style=\"text-align: right;\">\n",
       "      <th></th>\n",
       "      <th>elevation_gain</th>\n",
       "      <th>elevation_lost</th>\n",
       "      <th>avg_velocity_kmh</th>\n",
       "      <th>slope_percentage</th>\n",
       "      <th>total_climb_since_start</th>\n",
       "    </tr>\n",
       "  </thead>\n",
       "  <tbody>\n",
       "    <tr>\n",
       "      <th>0</th>\n",
       "      <td>15.4</td>\n",
       "      <td>0.0</td>\n",
       "      <td>12.77</td>\n",
       "      <td>2.0</td>\n",
       "      <td>15.4</td>\n",
       "    </tr>\n",
       "    <tr>\n",
       "      <th>1</th>\n",
       "      <td>1.7</td>\n",
       "      <td>17.0</td>\n",
       "      <td>22.05</td>\n",
       "      <td>-2.0</td>\n",
       "      <td>17.1</td>\n",
       "    </tr>\n",
       "    <tr>\n",
       "      <th>2</th>\n",
       "      <td>3.0</td>\n",
       "      <td>0.1</td>\n",
       "      <td>10.40</td>\n",
       "      <td>1.0</td>\n",
       "      <td>20.1</td>\n",
       "    </tr>\n",
       "    <tr>\n",
       "      <th>3</th>\n",
       "      <td>0.6</td>\n",
       "      <td>4.9</td>\n",
       "      <td>15.97</td>\n",
       "      <td>0.0</td>\n",
       "      <td>20.7</td>\n",
       "    </tr>\n",
       "    <tr>\n",
       "      <th>4</th>\n",
       "      <td>2.5</td>\n",
       "      <td>0.1</td>\n",
       "      <td>17.35</td>\n",
       "      <td>1.0</td>\n",
       "      <td>23.2</td>\n",
       "    </tr>\n",
       "  </tbody>\n",
       "</table>\n",
       "</div>"
      ],
      "text/plain": [
       "   elevation_gain  elevation_lost  avg_velocity_kmh  slope_percentage  \\\n",
       "0            15.4             0.0             12.77               2.0   \n",
       "1             1.7            17.0             22.05              -2.0   \n",
       "2             3.0             0.1             10.40               1.0   \n",
       "3             0.6             4.9             15.97               0.0   \n",
       "4             2.5             0.1             17.35               1.0   \n",
       "\n",
       "   total_climb_since_start  \n",
       "0                     15.4  \n",
       "1                     17.1  \n",
       "2                     20.1  \n",
       "3                     20.7  \n",
       "4                     23.2  "
      ]
     },
     "execution_count": 136,
     "metadata": {},
     "output_type": "execute_result"
    }
   ],
   "source": [
    "ssDF = ssDF.drop(['ride_index','start_lat','start_lon','end_lat','end_lon','elevation_change','elevation','pct_of_total_ride','all_time_avg_kmh','is_he_resting','time_since_start','time_elapsed','distance_covered','distance_since_start'], axis=1)\n",
    "ssDF.head()"
   ]
  },
  {
   "cell_type": "code",
   "execution_count": 137,
   "metadata": {},
   "outputs": [
    {
     "data": {
      "text/html": [
       "<div>\n",
       "<style scoped>\n",
       "    .dataframe tbody tr th:only-of-type {\n",
       "        vertical-align: middle;\n",
       "    }\n",
       "\n",
       "    .dataframe tbody tr th {\n",
       "        vertical-align: top;\n",
       "    }\n",
       "\n",
       "    .dataframe thead th {\n",
       "        text-align: right;\n",
       "    }\n",
       "</style>\n",
       "<table border=\"1\" class=\"dataframe\">\n",
       "  <thead>\n",
       "    <tr style=\"text-align: right;\">\n",
       "      <th></th>\n",
       "      <th>elevation_gain</th>\n",
       "      <th>elevation_lost</th>\n",
       "      <th>avg_velocity_kmh</th>\n",
       "      <th>slope_percentage</th>\n",
       "      <th>total_climb_since_start</th>\n",
       "    </tr>\n",
       "  </thead>\n",
       "  <tbody>\n",
       "    <tr>\n",
       "      <th>0</th>\n",
       "      <td>15.4</td>\n",
       "      <td>0.0</td>\n",
       "      <td>12.77</td>\n",
       "      <td>2.0</td>\n",
       "      <td>15.4</td>\n",
       "    </tr>\n",
       "    <tr>\n",
       "      <th>1</th>\n",
       "      <td>1.7</td>\n",
       "      <td>17.0</td>\n",
       "      <td>22.05</td>\n",
       "      <td>-2.0</td>\n",
       "      <td>17.1</td>\n",
       "    </tr>\n",
       "    <tr>\n",
       "      <th>2</th>\n",
       "      <td>3.0</td>\n",
       "      <td>0.1</td>\n",
       "      <td>10.40</td>\n",
       "      <td>1.0</td>\n",
       "      <td>20.1</td>\n",
       "    </tr>\n",
       "    <tr>\n",
       "      <th>3</th>\n",
       "      <td>0.6</td>\n",
       "      <td>4.9</td>\n",
       "      <td>15.97</td>\n",
       "      <td>0.0</td>\n",
       "      <td>20.7</td>\n",
       "    </tr>\n",
       "    <tr>\n",
       "      <th>4</th>\n",
       "      <td>2.5</td>\n",
       "      <td>0.1</td>\n",
       "      <td>17.35</td>\n",
       "      <td>1.0</td>\n",
       "      <td>23.2</td>\n",
       "    </tr>\n",
       "    <tr>\n",
       "      <th>...</th>\n",
       "      <td>...</td>\n",
       "      <td>...</td>\n",
       "      <td>...</td>\n",
       "      <td>...</td>\n",
       "      <td>...</td>\n",
       "    </tr>\n",
       "    <tr>\n",
       "      <th>6123</th>\n",
       "      <td>0.7</td>\n",
       "      <td>15.2</td>\n",
       "      <td>11.03</td>\n",
       "      <td>-2.0</td>\n",
       "      <td>483.9</td>\n",
       "    </tr>\n",
       "    <tr>\n",
       "      <th>6124</th>\n",
       "      <td>8.1</td>\n",
       "      <td>0.1</td>\n",
       "      <td>9.08</td>\n",
       "      <td>4.0</td>\n",
       "      <td>492.0</td>\n",
       "    </tr>\n",
       "    <tr>\n",
       "      <th>6125</th>\n",
       "      <td>0.5</td>\n",
       "      <td>9.1</td>\n",
       "      <td>13.58</td>\n",
       "      <td>-4.0</td>\n",
       "      <td>492.5</td>\n",
       "    </tr>\n",
       "    <tr>\n",
       "      <th>6126</th>\n",
       "      <td>17.8</td>\n",
       "      <td>0.2</td>\n",
       "      <td>10.83</td>\n",
       "      <td>2.0</td>\n",
       "      <td>510.3</td>\n",
       "    </tr>\n",
       "    <tr>\n",
       "      <th>6127</th>\n",
       "      <td>1.0</td>\n",
       "      <td>2.0</td>\n",
       "      <td>9.05</td>\n",
       "      <td>-1.0</td>\n",
       "      <td>511.3</td>\n",
       "    </tr>\n",
       "  </tbody>\n",
       "</table>\n",
       "<p>6128 rows × 5 columns</p>\n",
       "</div>"
      ],
      "text/plain": [
       "      elevation_gain  elevation_lost  avg_velocity_kmh  slope_percentage  \\\n",
       "0               15.4             0.0             12.77               2.0   \n",
       "1                1.7            17.0             22.05              -2.0   \n",
       "2                3.0             0.1             10.40               1.0   \n",
       "3                0.6             4.9             15.97               0.0   \n",
       "4                2.5             0.1             17.35               1.0   \n",
       "...              ...             ...               ...               ...   \n",
       "6123             0.7            15.2             11.03              -2.0   \n",
       "6124             8.1             0.1              9.08               4.0   \n",
       "6125             0.5             9.1             13.58              -4.0   \n",
       "6126            17.8             0.2             10.83               2.0   \n",
       "6127             1.0             2.0              9.05              -1.0   \n",
       "\n",
       "      total_climb_since_start  \n",
       "0                        15.4  \n",
       "1                        17.1  \n",
       "2                        20.1  \n",
       "3                        20.7  \n",
       "4                        23.2  \n",
       "...                       ...  \n",
       "6123                    483.9  \n",
       "6124                    492.0  \n",
       "6125                    492.5  \n",
       "6126                    510.3  \n",
       "6127                    511.3  \n",
       "\n",
       "[6128 rows x 5 columns]"
      ]
     },
     "execution_count": 137,
     "metadata": {},
     "output_type": "execute_result"
    }
   ],
   "source": [
    "ssDF.reset_index(drop=True)"
   ]
  },
  {
   "cell_type": "code",
   "execution_count": 138,
   "metadata": {},
   "outputs": [],
   "source": [
    "from sklearn.ensemble import RandomForestRegressor\n",
    "from sklearn.model_selection import train_test_split"
   ]
  },
  {
   "cell_type": "code",
   "execution_count": 139,
   "metadata": {},
   "outputs": [],
   "source": [
    "X = ssDF.drop(\"avg_velocity_kmh\", axis=1)\n",
    "y = ssDF[\"avg_velocity_kmh\"]"
   ]
  },
  {
   "cell_type": "code",
   "execution_count": 140,
   "metadata": {},
   "outputs": [],
   "source": [
    "X_train, X_test, y_train, y_test = train_test_split(X, y, test_size=0.2)"
   ]
  },
  {
   "cell_type": "code",
   "execution_count": 141,
   "metadata": {},
   "outputs": [
    {
     "data": {
      "text/plain": [
       "RandomForestRegressor()"
      ]
     },
     "execution_count": 141,
     "metadata": {},
     "output_type": "execute_result"
    }
   ],
   "source": [
    "model = RandomForestRegressor()\n",
    "model.fit(X_train, y_train)"
   ]
  },
  {
   "cell_type": "code",
   "execution_count": 142,
   "metadata": {},
   "outputs": [
    {
     "data": {
      "text/plain": [
       "0.35057553873676317"
      ]
     },
     "execution_count": 142,
     "metadata": {},
     "output_type": "execute_result"
    }
   ],
   "source": [
    "model.score(X_test, y_test)"
   ]
  },
  {
   "cell_type": "code",
   "execution_count": 143,
   "metadata": {},
   "outputs": [],
   "source": [
    "from sklearn.inspection import permutation_importance\n",
    "from matplotlib import pyplot as plt\n",
    "%matplotlib inline"
   ]
  },
  {
   "cell_type": "code",
   "execution_count": 144,
   "metadata": {},
   "outputs": [
    {
     "data": {
      "text/plain": [
       "Text(0.5, 0, 'Feature Importance')"
      ]
     },
     "execution_count": 144,
     "metadata": {},
     "output_type": "execute_result"
    },
    {
     "data": {
      "image/png": "[encoded data removed]",
      "text/plain": [
       "<Figure size 432x288 with 1 Axes>"
      ]
     },
     "metadata": {
      "needs_background": "light"
     },
     "output_type": "display_data"
    }
   ],
   "source": [
    "sort = model.feature_importances_.argsort()\n",
    "plt.barh(ssDF.columns[sort], model.feature_importances_[sort])\n",
    "plt.xlabel(\"Feature Importance\")"
   ]
  }
 ],
 "metadata": {
  "interpreter": {
   "hash": "32fc431bb6b479a14f3a771367899bc25e342024a20ae614a8f261bec467a823"
  },
  "kernelspec": {
   "display_name": "Python 3.9.7 64-bit",
   "language": "python",
   "name": "python3"
  },
  "language_info": {
   "codemirror_mode": {
    "name": "ipython",
    "version": 3
   },
   "file_extension": ".py",
   "mimetype": "text/x-python",
   "name": "python",
   "nbconvert_exporter": "python",
   "pygments_lexer": "ipython3",
   "version": "3.9.7"
  },
  "orig_nbformat": 4
 },
 "nbformat": 4,
 "nbformat_minor": 2
}
